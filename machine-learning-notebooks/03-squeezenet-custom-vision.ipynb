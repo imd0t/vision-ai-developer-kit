{
 "cells": [
  {
   "cell_type": "markdown",
   "metadata": {},
   "source": [
    "Copyright (c) Microsoft Corporation. All rights reserved.\n",
    "\n",
    "Licensed under the MIT License."
   ]
  },
  {
   "cell_type": "markdown",
   "metadata": {},
   "source": [
    "# Custom Vision Service Model\n",
    "* Create Workspace\n",
    "* Register Demo model\n",
    "* Build Image \n",
    "* Create Hub and Prepare for device and deploy\n",
    "* Deploy Model"
   ]
  },
  {
   "cell_type": "code",
   "execution_count": 1,
   "metadata": {
    "scrolled": true
   },
   "outputs": [
    {
     "name": "stdout",
     "output_type": "stream",
     "text": [
      "Requirement already satisfied: azureml-core in /opt/conda/lib/python3.7/site-packages (1.40.0)\n",
      "Requirement already satisfied: humanfriendly<11.0,>=4.7 in /opt/conda/lib/python3.7/site-packages (from azureml-core) (10.0)\n",
      "Requirement already satisfied: backports.tempfile in /opt/conda/lib/python3.7/site-packages (from azureml-core) (1.0)\n",
      "Requirement already satisfied: azure-common<2.0.0,>=1.1.12 in /opt/conda/lib/python3.7/site-packages (from azureml-core) (1.1.28)\n",
      "Requirement already satisfied: pathspec<1.0.0 in /opt/conda/lib/python3.7/site-packages (from azureml-core) (0.9.0)\n",
      "Requirement already satisfied: azure-mgmt-keyvault<10.0.0,>=0.40.0 in /opt/conda/lib/python3.7/site-packages (from azureml-core) (9.3.0)\n",
      "Requirement already satisfied: contextlib2<22.0.0 in /opt/conda/lib/python3.7/site-packages (from azureml-core) (0.6.0.post1)\n",
      "Requirement already satisfied: packaging<22.0,>=20.0 in /opt/conda/lib/python3.7/site-packages (from azureml-core) (20.1)\n",
      "Requirement already satisfied: python-dateutil<3.0.0,>=2.7.3 in /opt/conda/lib/python3.7/site-packages (from azureml-core) (2.8.1)\n",
      "Requirement already satisfied: knack~=0.9.0 in /opt/conda/lib/python3.7/site-packages (from azureml-core) (0.9.0)\n",
      "Requirement already satisfied: azure-mgmt-resource<21.0.0,>=15.0.0 in /opt/conda/lib/python3.7/site-packages (from azureml-core) (20.1.0)\n",
      "Requirement already satisfied: jsonpickle<3.0.0 in /opt/conda/lib/python3.7/site-packages (from azureml-core) (2.1.0)\n",
      "Requirement already satisfied: PyJWT<3.0.0 in /opt/conda/lib/python3.7/site-packages (from azureml-core) (2.3.0)\n",
      "Requirement already satisfied: msrestazure<=0.6.4,>=0.4.33 in /opt/conda/lib/python3.7/site-packages (from azureml-core) (0.6.4)\n",
      "Requirement already satisfied: msal<2.0.0,>=1.15.0 in /opt/conda/lib/python3.7/site-packages (from azureml-core) (1.17.0)\n",
      "Requirement already satisfied: docker<6.0.0 in /opt/conda/lib/python3.7/site-packages (from azureml-core) (5.0.3)\n",
      "Requirement already satisfied: azure-mgmt-containerregistry<9.0.0,>=8.2.0 in /opt/conda/lib/python3.7/site-packages (from azureml-core) (8.2.0)\n",
      "Requirement already satisfied: azure-mgmt-storage<20.0.0,>=16.0.0 in /opt/conda/lib/python3.7/site-packages (from azureml-core) (19.1.0)\n",
      "Requirement already satisfied: azure-graphrbac<1.0.0,>=0.40.0 in /opt/conda/lib/python3.7/site-packages (from azureml-core) (0.61.1)\n",
      "Requirement already satisfied: urllib3<=1.26.7,>=1.23 in /opt/conda/lib/python3.7/site-packages (from azureml-core) (1.25.8)\n",
      "Requirement already satisfied: SecretStorage<4.0.0 in /opt/conda/lib/python3.7/site-packages (from azureml-core) (3.1.2)\n",
      "Requirement already satisfied: argcomplete<2.0 in /opt/conda/lib/python3.7/site-packages (from azureml-core) (1.12.3)\n",
      "Requirement already satisfied: pyopenssl<22.0.0 in /opt/conda/lib/python3.7/site-packages (from azureml-core) (19.1.0)\n",
      "Requirement already satisfied: ndg-httpsclient<=0.5.1 in /opt/conda/lib/python3.7/site-packages (from azureml-core) (0.5.1)\n",
      "Requirement already satisfied: pkginfo in /opt/conda/lib/python3.7/site-packages (from azureml-core) (1.5.0.1)\n",
      "Requirement already satisfied: adal<=1.2.7,>=1.2.0 in /opt/conda/lib/python3.7/site-packages (from azureml-core) (1.2.7)\n",
      "Requirement already satisfied: requests[socks]<3.0.0,>=2.19.1 in /opt/conda/lib/python3.7/site-packages (from azureml-core) (2.22.0)\n",
      "Requirement already satisfied: pytz in /opt/conda/lib/python3.7/site-packages (from azureml-core) (2019.3)\n",
      "Requirement already satisfied: msrest<1.0.0,>=0.5.1 in /opt/conda/lib/python3.7/site-packages (from azureml-core) (0.6.21)\n",
      "Requirement already satisfied: azure-mgmt-authorization<1.0.0,>=0.40.0 in /opt/conda/lib/python3.7/site-packages (from azureml-core) (0.61.0)\n",
      "Requirement already satisfied: jmespath<1.0.0 in /opt/conda/lib/python3.7/site-packages (from azureml-core) (0.10.0)\n",
      "Requirement already satisfied: cryptography!=1.9,!=2.0.*,!=2.1.*,!=2.2.*,<37.0.0 in /opt/conda/lib/python3.7/site-packages (from azureml-core) (2.8)\n",
      "Requirement already satisfied: azure-core<1.22 in /opt/conda/lib/python3.7/site-packages (from azureml-core) (1.21.1)\n",
      "Requirement already satisfied: msal-extensions<0.4,>=0.3.0 in /opt/conda/lib/python3.7/site-packages (from azureml-core) (0.3.1)\n",
      "Requirement already satisfied: paramiko<3.0.0,>=2.0.8 in /opt/conda/lib/python3.7/site-packages (from azureml-core) (2.10.3)\n",
      "Requirement already satisfied: backports.weakref in /opt/conda/lib/python3.7/site-packages (from backports.tempfile->azureml-core) (1.0.post1)\n",
      "Requirement already satisfied: azure-mgmt-core<2.0.0,>=1.2.0 in /opt/conda/lib/python3.7/site-packages (from azure-mgmt-keyvault<10.0.0,>=0.40.0->azureml-core) (1.3.0)\n",
      "Requirement already satisfied: six in /opt/conda/lib/python3.7/site-packages (from packaging<22.0,>=20.0->azureml-core) (1.14.0)\n",
      "Requirement already satisfied: pyparsing>=2.0.2 in /opt/conda/lib/python3.7/site-packages (from packaging<22.0,>=20.0->azureml-core) (2.4.6)\n",
      "Requirement already satisfied: pyyaml in /opt/conda/lib/python3.7/site-packages (from knack~=0.9.0->azureml-core) (5.3)\n",
      "Requirement already satisfied: pygments in /opt/conda/lib/python3.7/site-packages (from knack~=0.9.0->azureml-core) (2.5.2)\n",
      "Requirement already satisfied: tabulate in /opt/conda/lib/python3.7/site-packages (from knack~=0.9.0->azureml-core) (0.8.9)\n",
      "Requirement already satisfied: importlib-metadata; python_version < \"3.8\" in /opt/conda/lib/python3.7/site-packages (from jsonpickle<3.0.0->azureml-core) (1.5.0)\n",
      "Requirement already satisfied: websocket-client>=0.32.0 in /opt/conda/lib/python3.7/site-packages (from docker<6.0.0->azureml-core) (1.3.2)\n",
      "Requirement already satisfied: jeepney>=0.4.2 in /opt/conda/lib/python3.7/site-packages (from SecretStorage<4.0.0->azureml-core) (0.4.2)\n",
      "Requirement already satisfied: pyasn1>=0.1.1 in /opt/conda/lib/python3.7/site-packages (from ndg-httpsclient<=0.5.1->azureml-core) (0.4.8)\n",
      "Requirement already satisfied: idna<2.9,>=2.5 in /opt/conda/lib/python3.7/site-packages (from requests[socks]<3.0.0,>=2.19.1->azureml-core) (2.8)\n",
      "Requirement already satisfied: chardet<3.1.0,>=3.0.2 in /opt/conda/lib/python3.7/site-packages (from requests[socks]<3.0.0,>=2.19.1->azureml-core) (3.0.4)\n",
      "Requirement already satisfied: certifi>=2017.4.17 in /opt/conda/lib/python3.7/site-packages (from requests[socks]<3.0.0,>=2.19.1->azureml-core) (2019.11.28)\n",
      "Requirement already satisfied: PySocks!=1.5.7,>=1.5.6; extra == \"socks\" in /opt/conda/lib/python3.7/site-packages (from requests[socks]<3.0.0,>=2.19.1->azureml-core) (1.7.1)\n",
      "Requirement already satisfied: requests-oauthlib>=0.5.0 in /opt/conda/lib/python3.7/site-packages (from msrest<1.0.0,>=0.5.1->azureml-core) (1.3.1)\n",
      "Requirement already satisfied: isodate>=0.6.0 in /opt/conda/lib/python3.7/site-packages (from msrest<1.0.0,>=0.5.1->azureml-core) (0.6.1)\n",
      "Requirement already satisfied: cffi!=1.11.3,>=1.8 in /opt/conda/lib/python3.7/site-packages (from cryptography!=1.9,!=2.0.*,!=2.1.*,!=2.2.*,<37.0.0->azureml-core) (1.14.0)\n",
      "Requirement already satisfied: portalocker<3,>=1.0; python_version >= \"3.5\" and platform_system != \"Windows\" in /opt/conda/lib/python3.7/site-packages (from msal-extensions<0.4,>=0.3.0->azureml-core) (2.4.0)\n",
      "Requirement already satisfied: pynacl>=1.0.1 in /opt/conda/lib/python3.7/site-packages (from paramiko<3.0.0,>=2.0.8->azureml-core) (1.5.0)\n",
      "Requirement already satisfied: bcrypt>=3.1.3 in /opt/conda/lib/python3.7/site-packages (from paramiko<3.0.0,>=2.0.8->azureml-core) (3.2.0)\n",
      "Requirement already satisfied: zipp>=0.5 in /opt/conda/lib/python3.7/site-packages (from importlib-metadata; python_version < \"3.8\"->jsonpickle<3.0.0->azureml-core) (2.2.0)\n",
      "Requirement already satisfied: oauthlib>=3.0.0 in /opt/conda/lib/python3.7/site-packages (from requests-oauthlib>=0.5.0->msrest<1.0.0,>=0.5.1->azureml-core) (3.2.0)\n",
      "Requirement already satisfied: pycparser in /opt/conda/lib/python3.7/site-packages (from cffi!=1.11.3,>=1.8->cryptography!=1.9,!=2.0.*,!=2.1.*,!=2.2.*,<37.0.0->azureml-core) (2.19)\n",
      "Collecting azureml-contrib-iot\n",
      "  Downloading azureml_contrib_iot-1.40.0-py3-none-any.whl (23 kB)\n",
      "Requirement already satisfied: azureml-core~=1.40.0 in /opt/conda/lib/python3.7/site-packages (from azureml-contrib-iot) (1.40.0)\n",
      "Requirement already satisfied: docker<6.0.0 in /opt/conda/lib/python3.7/site-packages (from azureml-core~=1.40.0->azureml-contrib-iot) (5.0.3)\n",
      "Requirement already satisfied: azure-mgmt-keyvault<10.0.0,>=0.40.0 in /opt/conda/lib/python3.7/site-packages (from azureml-core~=1.40.0->azureml-contrib-iot) (9.3.0)\n",
      "Requirement already satisfied: azure-graphrbac<1.0.0,>=0.40.0 in /opt/conda/lib/python3.7/site-packages (from azureml-core~=1.40.0->azureml-contrib-iot) (0.61.1)\n",
      "Requirement already satisfied: pytz in /opt/conda/lib/python3.7/site-packages (from azureml-core~=1.40.0->azureml-contrib-iot) (2019.3)\n",
      "Requirement already satisfied: SecretStorage<4.0.0 in /opt/conda/lib/python3.7/site-packages (from azureml-core~=1.40.0->azureml-contrib-iot) (3.1.2)\n",
      "Requirement already satisfied: azure-core<1.22 in /opt/conda/lib/python3.7/site-packages (from azureml-core~=1.40.0->azureml-contrib-iot) (1.21.1)\n",
      "Requirement already satisfied: azure-mgmt-authorization<1.0.0,>=0.40.0 in /opt/conda/lib/python3.7/site-packages (from azureml-core~=1.40.0->azureml-contrib-iot) (0.61.0)\n",
      "Requirement already satisfied: msrestazure<=0.6.4,>=0.4.33 in /opt/conda/lib/python3.7/site-packages (from azureml-core~=1.40.0->azureml-contrib-iot) (0.6.4)\n",
      "Requirement already satisfied: urllib3<=1.26.7,>=1.23 in /opt/conda/lib/python3.7/site-packages (from azureml-core~=1.40.0->azureml-contrib-iot) (1.25.8)\n",
      "Requirement already satisfied: azure-mgmt-resource<21.0.0,>=15.0.0 in /opt/conda/lib/python3.7/site-packages (from azureml-core~=1.40.0->azureml-contrib-iot) (20.1.0)\n",
      "Requirement already satisfied: packaging<22.0,>=20.0 in /opt/conda/lib/python3.7/site-packages (from azureml-core~=1.40.0->azureml-contrib-iot) (20.1)\n",
      "Requirement already satisfied: azure-common<2.0.0,>=1.1.12 in /opt/conda/lib/python3.7/site-packages (from azureml-core~=1.40.0->azureml-contrib-iot) (1.1.28)\n",
      "Requirement already satisfied: requests[socks]<3.0.0,>=2.19.1 in /opt/conda/lib/python3.7/site-packages (from azureml-core~=1.40.0->azureml-contrib-iot) (2.22.0)\n",
      "Requirement already satisfied: msrest<1.0.0,>=0.5.1 in /opt/conda/lib/python3.7/site-packages (from azureml-core~=1.40.0->azureml-contrib-iot) (0.6.21)\n",
      "Requirement already satisfied: pyopenssl<22.0.0 in /opt/conda/lib/python3.7/site-packages (from azureml-core~=1.40.0->azureml-contrib-iot) (19.1.0)\n",
      "Requirement already satisfied: pathspec<1.0.0 in /opt/conda/lib/python3.7/site-packages (from azureml-core~=1.40.0->azureml-contrib-iot) (0.9.0)\n",
      "Requirement already satisfied: jsonpickle<3.0.0 in /opt/conda/lib/python3.7/site-packages (from azureml-core~=1.40.0->azureml-contrib-iot) (2.1.0)\n",
      "Requirement already satisfied: contextlib2<22.0.0 in /opt/conda/lib/python3.7/site-packages (from azureml-core~=1.40.0->azureml-contrib-iot) (0.6.0.post1)\n",
      "Requirement already satisfied: msal-extensions<0.4,>=0.3.0 in /opt/conda/lib/python3.7/site-packages (from azureml-core~=1.40.0->azureml-contrib-iot) (0.3.1)\n",
      "Requirement already satisfied: msal<2.0.0,>=1.15.0 in /opt/conda/lib/python3.7/site-packages (from azureml-core~=1.40.0->azureml-contrib-iot) (1.17.0)\n",
      "Requirement already satisfied: adal<=1.2.7,>=1.2.0 in /opt/conda/lib/python3.7/site-packages (from azureml-core~=1.40.0->azureml-contrib-iot) (1.2.7)\n",
      "Requirement already satisfied: argcomplete<2.0 in /opt/conda/lib/python3.7/site-packages (from azureml-core~=1.40.0->azureml-contrib-iot) (1.12.3)\n",
      "Requirement already satisfied: azure-mgmt-storage<20.0.0,>=16.0.0 in /opt/conda/lib/python3.7/site-packages (from azureml-core~=1.40.0->azureml-contrib-iot) (19.1.0)\n",
      "Requirement already satisfied: cryptography!=1.9,!=2.0.*,!=2.1.*,!=2.2.*,<37.0.0 in /opt/conda/lib/python3.7/site-packages (from azureml-core~=1.40.0->azureml-contrib-iot) (2.8)\n",
      "Requirement already satisfied: humanfriendly<11.0,>=4.7 in /opt/conda/lib/python3.7/site-packages (from azureml-core~=1.40.0->azureml-contrib-iot) (10.0)\n",
      "Requirement already satisfied: jmespath<1.0.0 in /opt/conda/lib/python3.7/site-packages (from azureml-core~=1.40.0->azureml-contrib-iot) (0.10.0)\n",
      "Requirement already satisfied: python-dateutil<3.0.0,>=2.7.3 in /opt/conda/lib/python3.7/site-packages (from azureml-core~=1.40.0->azureml-contrib-iot) (2.8.1)\n",
      "Requirement already satisfied: PyJWT<3.0.0 in /opt/conda/lib/python3.7/site-packages (from azureml-core~=1.40.0->azureml-contrib-iot) (2.3.0)\n",
      "Requirement already satisfied: pkginfo in /opt/conda/lib/python3.7/site-packages (from azureml-core~=1.40.0->azureml-contrib-iot) (1.5.0.1)\n",
      "Requirement already satisfied: azure-mgmt-containerregistry<9.0.0,>=8.2.0 in /opt/conda/lib/python3.7/site-packages (from azureml-core~=1.40.0->azureml-contrib-iot) (8.2.0)\n",
      "Requirement already satisfied: knack~=0.9.0 in /opt/conda/lib/python3.7/site-packages (from azureml-core~=1.40.0->azureml-contrib-iot) (0.9.0)\n",
      "Requirement already satisfied: backports.tempfile in /opt/conda/lib/python3.7/site-packages (from azureml-core~=1.40.0->azureml-contrib-iot) (1.0)\n",
      "Requirement already satisfied: ndg-httpsclient<=0.5.1 in /opt/conda/lib/python3.7/site-packages (from azureml-core~=1.40.0->azureml-contrib-iot) (0.5.1)\n",
      "Requirement already satisfied: paramiko<3.0.0,>=2.0.8 in /opt/conda/lib/python3.7/site-packages (from azureml-core~=1.40.0->azureml-contrib-iot) (2.10.3)\n",
      "Requirement already satisfied: websocket-client>=0.32.0 in /opt/conda/lib/python3.7/site-packages (from docker<6.0.0->azureml-core~=1.40.0->azureml-contrib-iot) (1.3.2)\n",
      "Requirement already satisfied: azure-mgmt-core<2.0.0,>=1.2.0 in /opt/conda/lib/python3.7/site-packages (from azure-mgmt-keyvault<10.0.0,>=0.40.0->azureml-core~=1.40.0->azureml-contrib-iot) (1.3.0)\n",
      "Requirement already satisfied: jeepney>=0.4.2 in /opt/conda/lib/python3.7/site-packages (from SecretStorage<4.0.0->azureml-core~=1.40.0->azureml-contrib-iot) (0.4.2)\n",
      "Requirement already satisfied: six>=1.11.0 in /opt/conda/lib/python3.7/site-packages (from azure-core<1.22->azureml-core~=1.40.0->azureml-contrib-iot) (1.14.0)\n",
      "Requirement already satisfied: pyparsing>=2.0.2 in /opt/conda/lib/python3.7/site-packages (from packaging<22.0,>=20.0->azureml-core~=1.40.0->azureml-contrib-iot) (2.4.6)\n",
      "Requirement already satisfied: certifi>=2017.4.17 in /opt/conda/lib/python3.7/site-packages (from requests[socks]<3.0.0,>=2.19.1->azureml-core~=1.40.0->azureml-contrib-iot) (2019.11.28)\n",
      "Requirement already satisfied: chardet<3.1.0,>=3.0.2 in /opt/conda/lib/python3.7/site-packages (from requests[socks]<3.0.0,>=2.19.1->azureml-core~=1.40.0->azureml-contrib-iot) (3.0.4)\n",
      "Requirement already satisfied: idna<2.9,>=2.5 in /opt/conda/lib/python3.7/site-packages (from requests[socks]<3.0.0,>=2.19.1->azureml-core~=1.40.0->azureml-contrib-iot) (2.8)\n",
      "Requirement already satisfied: PySocks!=1.5.7,>=1.5.6; extra == \"socks\" in /opt/conda/lib/python3.7/site-packages (from requests[socks]<3.0.0,>=2.19.1->azureml-core~=1.40.0->azureml-contrib-iot) (1.7.1)\n",
      "Requirement already satisfied: requests-oauthlib>=0.5.0 in /opt/conda/lib/python3.7/site-packages (from msrest<1.0.0,>=0.5.1->azureml-core~=1.40.0->azureml-contrib-iot) (1.3.1)\n",
      "Requirement already satisfied: isodate>=0.6.0 in /opt/conda/lib/python3.7/site-packages (from msrest<1.0.0,>=0.5.1->azureml-core~=1.40.0->azureml-contrib-iot) (0.6.1)\n",
      "Requirement already satisfied: importlib-metadata; python_version < \"3.8\" in /opt/conda/lib/python3.7/site-packages (from jsonpickle<3.0.0->azureml-core~=1.40.0->azureml-contrib-iot) (1.5.0)\n",
      "Requirement already satisfied: portalocker<3,>=1.0; python_version >= \"3.5\" and platform_system != \"Windows\" in /opt/conda/lib/python3.7/site-packages (from msal-extensions<0.4,>=0.3.0->azureml-core~=1.40.0->azureml-contrib-iot) (2.4.0)\n",
      "Requirement already satisfied: cffi!=1.11.3,>=1.8 in /opt/conda/lib/python3.7/site-packages (from cryptography!=1.9,!=2.0.*,!=2.1.*,!=2.2.*,<37.0.0->azureml-core~=1.40.0->azureml-contrib-iot) (1.14.0)\n",
      "Requirement already satisfied: pyyaml in /opt/conda/lib/python3.7/site-packages (from knack~=0.9.0->azureml-core~=1.40.0->azureml-contrib-iot) (5.3)\n",
      "Requirement already satisfied: tabulate in /opt/conda/lib/python3.7/site-packages (from knack~=0.9.0->azureml-core~=1.40.0->azureml-contrib-iot) (0.8.9)\n",
      "Requirement already satisfied: pygments in /opt/conda/lib/python3.7/site-packages (from knack~=0.9.0->azureml-core~=1.40.0->azureml-contrib-iot) (2.5.2)\n",
      "Requirement already satisfied: backports.weakref in /opt/conda/lib/python3.7/site-packages (from backports.tempfile->azureml-core~=1.40.0->azureml-contrib-iot) (1.0.post1)\n",
      "Requirement already satisfied: pyasn1>=0.1.1 in /opt/conda/lib/python3.7/site-packages (from ndg-httpsclient<=0.5.1->azureml-core~=1.40.0->azureml-contrib-iot) (0.4.8)\n",
      "Requirement already satisfied: bcrypt>=3.1.3 in /opt/conda/lib/python3.7/site-packages (from paramiko<3.0.0,>=2.0.8->azureml-core~=1.40.0->azureml-contrib-iot) (3.2.0)\n",
      "Requirement already satisfied: pynacl>=1.0.1 in /opt/conda/lib/python3.7/site-packages (from paramiko<3.0.0,>=2.0.8->azureml-core~=1.40.0->azureml-contrib-iot) (1.5.0)\n",
      "Requirement already satisfied: oauthlib>=3.0.0 in /opt/conda/lib/python3.7/site-packages (from requests-oauthlib>=0.5.0->msrest<1.0.0,>=0.5.1->azureml-core~=1.40.0->azureml-contrib-iot) (3.2.0)\n",
      "Requirement already satisfied: zipp>=0.5 in /opt/conda/lib/python3.7/site-packages (from importlib-metadata; python_version < \"3.8\"->jsonpickle<3.0.0->azureml-core~=1.40.0->azureml-contrib-iot) (2.2.0)\n",
      "Requirement already satisfied: pycparser in /opt/conda/lib/python3.7/site-packages (from cffi!=1.11.3,>=1.8->cryptography!=1.9,!=2.0.*,!=2.1.*,!=2.2.*,<37.0.0->azureml-core~=1.40.0->azureml-contrib-iot) (2.19)\n",
      "Installing collected packages: azureml-contrib-iot\n",
      "Successfully installed azureml-contrib-iot-1.40.0\n",
      "Requirement already satisfied: azure-mgmt-containerregistry in /opt/conda/lib/python3.7/site-packages (8.2.0)\n",
      "Requirement already satisfied: msrest>=0.6.21 in /opt/conda/lib/python3.7/site-packages (from azure-mgmt-containerregistry) (0.6.21)\n",
      "Requirement already satisfied: azure-mgmt-core<2.0.0,>=1.2.0 in /opt/conda/lib/python3.7/site-packages (from azure-mgmt-containerregistry) (1.3.0)\n",
      "Requirement already satisfied: azure-common~=1.1 in /opt/conda/lib/python3.7/site-packages (from azure-mgmt-containerregistry) (1.1.28)\n",
      "Requirement already satisfied: certifi>=2017.4.17 in /opt/conda/lib/python3.7/site-packages (from msrest>=0.6.21->azure-mgmt-containerregistry) (2019.11.28)\n",
      "Requirement already satisfied: isodate>=0.6.0 in /opt/conda/lib/python3.7/site-packages (from msrest>=0.6.21->azure-mgmt-containerregistry) (0.6.1)\n",
      "Requirement already satisfied: requests-oauthlib>=0.5.0 in /opt/conda/lib/python3.7/site-packages (from msrest>=0.6.21->azure-mgmt-containerregistry) (1.3.1)\n",
      "Requirement already satisfied: requests~=2.16 in /opt/conda/lib/python3.7/site-packages (from msrest>=0.6.21->azure-mgmt-containerregistry) (2.22.0)\n",
      "Requirement already satisfied: azure-core<2.0.0,>=1.15.0 in /opt/conda/lib/python3.7/site-packages (from azure-mgmt-core<2.0.0,>=1.2.0->azure-mgmt-containerregistry) (1.21.1)\n",
      "Requirement already satisfied: six in /opt/conda/lib/python3.7/site-packages (from isodate>=0.6.0->msrest>=0.6.21->azure-mgmt-containerregistry) (1.14.0)\n",
      "Requirement already satisfied: oauthlib>=3.0.0 in /opt/conda/lib/python3.7/site-packages (from requests-oauthlib>=0.5.0->msrest>=0.6.21->azure-mgmt-containerregistry) (3.2.0)\n",
      "Requirement already satisfied: idna<2.9,>=2.5 in /opt/conda/lib/python3.7/site-packages (from requests~=2.16->msrest>=0.6.21->azure-mgmt-containerregistry) (2.8)\n",
      "Requirement already satisfied: chardet<3.1.0,>=3.0.2 in /opt/conda/lib/python3.7/site-packages (from requests~=2.16->msrest>=0.6.21->azure-mgmt-containerregistry) (3.0.4)\n",
      "Requirement already satisfied: urllib3!=1.25.0,!=1.25.1,<1.26,>=1.21.1 in /opt/conda/lib/python3.7/site-packages (from requests~=2.16->msrest>=0.6.21->azure-mgmt-containerregistry) (1.25.8)\n"
     ]
    }
   ],
   "source": [
    "# For prod\n",
    "!pip install azureml-core\n",
    "!pip install azureml-contrib-iot --user\n",
    "!pip install azure-mgmt-containerregistry   "
   ]
  },
  {
   "cell_type": "code",
   "execution_count": null,
   "metadata": {},
   "outputs": [],
   "source": []
  },
  {
   "cell_type": "code",
   "execution_count": null,
   "metadata": {},
   "outputs": [],
   "source": [
    "import os\n",
    "print(os.__file__)"
   ]
  },
  {
   "cell_type": "code",
   "execution_count": null,
   "metadata": {},
   "outputs": [],
   "source": [
    "# Check core SDK version number\n",
    "import azureml.core as azcore\n",
    "\n",
    "print(\"SDK version:\", azcore.VERSION)"
   ]
  },
  {
   "cell_type": "markdown",
   "metadata": {},
   "source": [
    "### Create a Workspace\n",
    "#### Change this cell from markdown to code and run this if you need to create a workspace \n",
    "#### Update the values for your workspace below\n",
    "ws=Workspace.create(subscription_id=\"replace-with-subscription-id\",\n",
    "                resource_group=\"your-resource-group\",\n",
    "                name=\"your-workspace-name\",\n",
    "                location=\"eastus2\")\n",
    "                \n",
    "ws.write_config()"
   ]
  },
  {
   "cell_type": "code",
   "execution_count": null,
   "metadata": {},
   "outputs": [],
   "source": [
    "#Initialize Workspace \n",
    "from azureml.core import Workspace\n",
    "\n",
    "ws = Workspace.from_config()\n",
    "print(ws.name, ws.resource_group, ws.location, ws.subscription_id, sep = '\\n')"
   ]
  },
  {
   "cell_type": "markdown",
   "metadata": {},
   "source": [
    "### Register model\n",
    "Download the model files from customvision.ai."
   ]
  },
  {
   "cell_type": "code",
   "execution_count": null,
   "metadata": {},
   "outputs": [],
   "source": [
    "from azureml.core.model import Model\n",
    "\n",
    "model = Model.register(model_path = \"models/squeezenet-forks/orig/\",\n",
    "                      model_name = \"forks_scissors\",\n",
    "                      tags = {\"data\": \"customvision\", \"model\": \"object_detection\", \"type\": \"squeezenet\"},\n",
    "                      description = \"Retrained forks and scissors based on Squeezenet\",\n",
    "                      workspace = ws)\n",
    "print(model.name, model.url, model.version, model.id, model.created_time)"
   ]
  },
  {
   "cell_type": "code",
   "execution_count": null,
   "metadata": {},
   "outputs": [],
   "source": [
    "from azureml.contrib.iot.model_converters import SnpeConverter\n",
    "\n",
    "# submit a compile request\n",
    "compile_request = SnpeConverter.convert_caffe_model(\n",
    "    ws,\n",
    "    source_model=model,\n",
    "    mirror_content = True)\n",
    "print(compile_request._operation_id)"
   ]
  },
  {
   "cell_type": "code",
   "execution_count": null,
   "metadata": {
    "scrolled": true
   },
   "outputs": [],
   "source": [
    "# wait for the request to complete\n",
    "compile_request.wait_for_completion(show_output=True)"
   ]
  },
  {
   "cell_type": "code",
   "execution_count": null,
   "metadata": {},
   "outputs": [],
   "source": [
    "# Get converted model\n",
    "converted_model = compile_request.result\n",
    "print(converted_model.name, converted_model.url, converted_model.version, converted_model.id, converted_model.created_time)"
   ]
  },
  {
   "cell_type": "code",
   "execution_count": null,
   "metadata": {},
   "outputs": [],
   "source": [
    "from azureml.core.image import Image\n",
    "from azureml.contrib.iot import IotContainerImage\n",
    "print ('We will create an image for you now ...')\n",
    "image_config = IotContainerImage.image_configuration(\n",
    "                                 architecture=\"arm32v7\",\n",
    "                                 execution_script=\"main.py\", \n",
    "                                 dependencies=[\"camera.py\",\"iot.py\",\"ipcprovider.py\",\"utility.py\", \"frame_iterators.py\"],\n",
    "                                 docker_file=\"Dockerfile\", \n",
    "                                 tags = [\"squeezenet\"],\n",
    "                                 description = \"Squeezenet model from customvision.ai\")\n",
    "image = Image.create(name = \"forksscissors\",\n",
    "                     # this is the model object \n",
    "                     models = [converted_model],\n",
    "                     image_config = image_config, \n",
    "                     workspace = ws)\n",
    "image.wait_for_creation(show_output = True)"
   ]
  },
  {
   "cell_type": "code",
   "execution_count": null,
   "metadata": {},
   "outputs": [],
   "source": [
    "# Parameter list\n",
    "\n",
    "# Pick a name for what you want to call the module you deploy to the camera\n",
    "module_name = \"visionsample\"\n",
    "\n",
    "# Resource group in Azure \n",
    "resource_group_name= ws.resource_group\n",
    "iot_rg=\"vaidk_\"+resource_group_name\n",
    "\n",
    "# Azure region where your services will be provisioned\n",
    "iot_location=\"eastus2\"\n",
    "\n",
    "# Azure IoT Hub name\n",
    "iot_hub_name=\"iothub-\"+ ws.get_details()[\"name\"]\n",
    "\n",
    "# Pick a name for your camera\n",
    "iot_device_id=\"vadik_\"+ ws.get_details()[\"name\"]\n",
    "\n",
    "# Pick a name for the deployment configuration\n",
    "iot_deployment_id=\"demovaidk\""
   ]
  },
  {
   "cell_type": "code",
   "execution_count": null,
   "metadata": {},
   "outputs": [],
   "source": [
    "# Getting your container details\n",
    "container_reg = ws.get_details()[\"containerRegistry\"]\n",
    "reg_name=container_reg.split(\"/\")[-1]\n",
    "container_url = \"\\\"\" + image.image_location + \"\\\",\"\n",
    "subscription_id = ws.subscription_id\n",
    "print('{}'.format(image.image_location))\n",
    "print('{}'.format(reg_name))\n",
    "print('{}'.format(subscription_id))\n",
    "from azure.mgmt.containerregistry import ContainerRegistryManagementClient\n",
    "from azure.mgmt import containerregistry\n",
    "client = ContainerRegistryManagementClient(ws._auth,subscription_id)\n",
    "result= client.registries.list_credentials(resource_group_name, reg_name, custom_headers=None, raw=False)\n",
    "username = result.username\n",
    "password = result.passwords[0].value"
   ]
  },
  {
   "cell_type": "markdown",
   "metadata": {},
   "source": [
    "### Deployment file\n",
    "This is the deployment.json file that you will use to deploy your model.  Please see the other sample notebooks on using this file to deploy the new model you created."
   ]
  },
  {
   "cell_type": "code",
   "execution_count": null,
   "metadata": {},
   "outputs": [],
   "source": [
    "file = open('./deployment-template.json')\n",
    "contents = file.read()\n",
    "contents = contents.replace('__MODULE_NAME', module_name)\n",
    "contents = contents.replace('__REGISTRY_NAME', reg_name)\n",
    "contents = contents.replace('__REGISTRY_USER_NAME', username)\n",
    "contents = contents.replace('__REGISTRY_PASSWORD', password)\n",
    "contents = contents.replace('__REGISTRY_IMAGE_LOCATION', image.image_location)\n",
    "with open('./deployment.json', 'wt', encoding='utf-8') as output_file:\n",
    "    output_file.write(contents)"
   ]
  },
  {
   "cell_type": "code",
   "execution_count": null,
   "metadata": {},
   "outputs": [],
   "source": []
  }
 ],
 "metadata": {
  "kernelspec": {
   "display_name": "Python 3",
   "language": "python",
   "name": "python3"
  },
  "language_info": {
   "codemirror_mode": {
    "name": "ipython",
    "version": 3
   },
   "file_extension": ".py",
   "mimetype": "text/x-python",
   "name": "python",
   "nbconvert_exporter": "python",
   "pygments_lexer": "ipython3",
   "version": "3.7.6"
  }
 },
 "nbformat": 4,
 "nbformat_minor": 2
}
